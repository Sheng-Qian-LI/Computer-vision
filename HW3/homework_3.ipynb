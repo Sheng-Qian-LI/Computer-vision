{
  "cells": [
    {
      "cell_type": "markdown",
      "metadata": {
        "id": "D0MrEVoVmhOy"
      },
      "source": [
        "# Computer Vision Homework 3: Big vs Small Models"
      ]
    },
    {
      "cell_type": "markdown",
      "metadata": {
        "id": "U0hnrUlYrGWS"
      },
      "source": [
        "## Brief"
      ]
    },
    {
      "cell_type": "markdown",
      "metadata": {
        "id": "j_zuWZp5rSyN"
      },
      "source": [
        "Due date: Nov 13, 2023\n",
        "\n",
        "Required files: `homework-3.ipynb`, `report.pdf`\n",
        "\n",
        "To download the jupyter notebook from colab, you can refer to the colab tutorial we gave.\n"
      ]
    },
    {
      "cell_type": "markdown",
      "metadata": {
        "id": "Om7423NauKQ6"
      },
      "source": [
        "## Codes for Problem 1 and Problem 2"
      ]
    },
    {
      "cell_type": "markdown",
      "metadata": {
        "id": "rX6pBqvV6RCq"
      },
      "source": [
        "### Import Packages"
      ]
    },
    {
      "cell_type": "code",
      "execution_count": null,
      "metadata": {
        "id": "73wanLwflUdb"
      },
      "outputs": [],
      "source": [
        "import glob\n",
        "import os\n",
        "import random\n",
        "\n",
        "import matplotlib.pyplot as plt\n",
        "import numpy as np\n",
        "import pandas as pd\n",
        "\n",
        "import torch\n",
        "import torch.nn as nn\n",
        "import torch.optim as optim\n",
        "\n",
        "from PIL import Image\n",
        "from torch.utils.data import DataLoader, Dataset, RandomSampler\n",
        "from torchvision import transforms, models, datasets\n",
        "from tqdm import tqdm\n",
        "\n",
        "%matplotlib inline"
      ]
    },
    {
      "cell_type": "markdown",
      "metadata": {
        "id": "rtXEq_Yx5j-L"
      },
      "source": [
        "### Check GPU Environment"
      ]
    },
    {
      "cell_type": "code",
      "execution_count": null,
      "metadata": {
        "colab": {
          "base_uri": "https://localhost:8080/"
        },
        "id": "Yz3wOsYwmEz8",
        "outputId": "e5b24408-3e87-4475-b7bd-4ff0a32841f2"
      },
      "outputs": [
        {
          "name": "stdout",
          "output_type": "stream",
          "text": [
            "Using cuda device\n"
          ]
        }
      ],
      "source": [
        "device = torch.device('cuda' if torch.cuda.is_available() else 'cpu')\n",
        "print(f'Using {device} device')"
      ]
    },
    {
      "cell_type": "code",
      "execution_count": null,
      "metadata": {
        "colab": {
          "base_uri": "https://localhost:8080/"
        },
        "id": "zbpaGDdwnX9g",
        "outputId": "d7a2a23c-8886-45a5-8a29-2a7458b5e8c8"
      },
      "outputs": [
        {
          "name": "stdout",
          "output_type": "stream",
          "text": [
            "GPU 0: NVIDIA A100-SXM4-40GB (UUID: GPU-14f285da-93ee-ebf8-f195-e154a3c5de68)\n"
          ]
        }
      ],
      "source": [
        "! nvidia-smi -L"
      ]
    },
    {
      "cell_type": "markdown",
      "metadata": {
        "id": "qAoPtdOR5ojk"
      },
      "source": [
        "### Set the Seed to Reproduce the Result"
      ]
    },
    {
      "cell_type": "code",
      "execution_count": null,
      "metadata": {
        "id": "Wphy638XBNj-"
      },
      "outputs": [],
      "source": [
        "def set_all_seed(seed):\n",
        "    np.random.seed(seed)\n",
        "    random.seed(seed)\n",
        "    torch.manual_seed(seed)\n",
        "set_all_seed(123)"
      ]
    },
    {
      "cell_type": "markdown",
      "metadata": {
        "id": "GLmcH3NAH4wq"
      },
      "source": [
        "### Create Dataset and Dataloader"
      ]
    },
    {
      "cell_type": "code",
      "execution_count": null,
      "metadata": {
        "colab": {
          "base_uri": "https://localhost:8080/"
        },
        "id": "5VHp_O3_JgZE",
        "outputId": "b6e6178e-8aaa-418b-8fbc-c1b3416d748a"
      },
      "outputs": [
        {
          "name": "stdout",
          "output_type": "stream",
          "text": [
            "Downloading https://www.cs.toronto.edu/~kriz/cifar-10-python.tar.gz to data/cifar-10-python.tar.gz\n"
          ]
        },
        {
          "name": "stderr",
          "output_type": "stream",
          "text": [
            "100%|██████████| 170498071/170498071 [00:12<00:00, 13148036.18it/s]\n"
          ]
        },
        {
          "name": "stdout",
          "output_type": "stream",
          "text": [
            "Extracting data/cifar-10-python.tar.gz to data\n",
            "Files already downloaded and verified\n"
          ]
        }
      ],
      "source": [
        "batch_size = 256\n",
        "\n",
        "mean = (0.4914, 0.4822, 0.4465)\n",
        "std = (0.2471, 0.2435, 0.2616)\n",
        "train_transform = transforms.Compose([\n",
        "    transforms.RandomCrop(32, padding=4),\n",
        "    transforms.RandomHorizontalFlip(),\n",
        "    transforms.ToTensor(),\n",
        "    transforms.Normalize(mean, std),\n",
        "])\n",
        "test_transform = transforms.Compose([\n",
        "    transforms.ToTensor(),\n",
        "    transforms.Normalize(mean, std),\n",
        "])\n",
        "\n",
        "train_dataset = datasets.CIFAR10(root='data', train=True, download=True, transform=train_transform)\n",
        "valid_dataset = datasets.CIFAR10(root='data', train=False, download=True, transform=test_transform)\n",
        "\n",
        "train_dataloader = DataLoader(train_dataset, batch_size=batch_size, shuffle=True, pin_memory=True)\n",
        "valid_dataloader = DataLoader(valid_dataset, batch_size=batch_size, shuffle=False, pin_memory=True)\n",
        "\n",
        "sixteenth_train_sampler = RandomSampler(train_dataset, num_samples=len(train_dataset)//16)\n",
        "half_train_sampler = RandomSampler(train_dataset, num_samples=len(train_dataset)//2)\n",
        "\n",
        "sixteenth_train_dataloader = DataLoader(train_dataset, batch_size=batch_size, sampler=sixteenth_train_sampler)\n",
        "half_train_dataloader = DataLoader(train_dataset, batch_size=batch_size, sampler=half_train_sampler)"
      ]
    },
    {
      "cell_type": "markdown",
      "metadata": {
        "id": "QjFDtcWRnFS9"
      },
      "source": [
        "### Load Models"
      ]
    },
    {
      "cell_type": "code",
      "execution_count": null,
      "metadata": {
        "colab": {
          "base_uri": "https://localhost:8080/"
        },
        "id": "vgZV0CodnFS9",
        "outputId": "457bd1ff-3340-4ac6-d819-53ca2590145f"
      },
      "outputs": [
        {
          "name": "stderr",
          "output_type": "stream",
          "text": [
            "Downloading: \"https://github.com/pytorch/vision/zipball/v0.10.0\" to /root/.cache/torch/hub/v0.10.0.zip\n",
            "Using cache found in /root/.cache/torch/hub/pytorch_vision_v0.10.0\n",
            "Downloading: \"https://download.pytorch.org/models/resnet18-f37072fd.pth\" to /root/.cache/torch/hub/checkpoints/resnet18-f37072fd.pth\n",
            "100%|██████████| 44.7M/44.7M [00:00<00:00, 159MB/s]\n",
            "Using cache found in /root/.cache/torch/hub/pytorch_vision_v0.10.0\n",
            "Using cache found in /root/.cache/torch/hub/pytorch_vision_v0.10.0\n",
            "Downloading: \"https://download.pytorch.org/models/resnet50-0676ba61.pth\" to /root/.cache/torch/hub/checkpoints/resnet50-0676ba61.pth\n",
            "100%|██████████| 97.8M/97.8M [00:00<00:00, 192MB/s]\n"
          ]
        },
        {
          "name": "stdout",
          "output_type": "stream",
          "text": [
            "done\n"
          ]
        }
      ],
      "source": [
        "##########################################\n",
        "#############    Model_1~4   #############\n",
        "##########################################\n",
        "model_1 = torch.hub.load('pytorch/vision:v0.10.0', 'resnet18', weights= None)            # 有4種情況 18*none, 18*v1, 50*none, 50*v1\n",
        "model_2 = torch.hub.load('pytorch/vision:v0.10.0', 'resnet18', weights='IMAGENET1K_V1')\n",
        "model_3 = torch.hub.load('pytorch/vision:v0.10.0', 'resnet50', weights= None)\n",
        "model_4 = torch.hub.load('pytorch/vision:v0.10.0', 'resnet50', weights='IMAGENET1K_V1')\n",
        "\n",
        "model_1.fc = torch.nn.Linear(model_1.fc.in_features, 10)\n",
        "model_2.fc = torch.nn.Linear(model_2.fc.in_features, 10)\n",
        "model_3.fc = torch.nn.Linear(model_3.fc.in_features, 10)\n",
        "model_4.fc = torch.nn.Linear(model_4.fc.in_features, 10)\n",
        "\n",
        "print('done')\n",
        "\n"
      ]
    },
    {
      "cell_type": "markdown",
      "metadata": {
        "id": "lZo50knhnFS_"
      },
      "source": [
        "### Training and Testing Models"
      ]
    },
    {
      "cell_type": "code",
      "execution_count": null,
      "metadata": {
        "id": "wlXKJeYWnFTA"
      },
      "outputs": [],
      "source": [
        "#=====================================================================\n",
        "#                       Training model def \n",
        "#=====================================================================\n",
        "\n",
        "##########################################\n",
        "##########    loss & optimizer  ##########\n",
        "##########################################\n",
        "loss_fn = nn.CrossEntropyLoss()\n",
        "optimizer_1 = torch.optim.Adam(model_1.parameters(), lr=1e-3)\n",
        "optimizer_2 = torch.optim.Adam(model_2.parameters(), lr=1e-3)\n",
        "optimizer_3 = torch.optim.Adam(model_3.parameters(), lr=1e-3)\n",
        "optimizer_4 = torch.optim.Adam(model_4.parameters(), lr=1e-3)\n",
        "\n",
        "##########################################\n",
        "##############    Model_1   ##############\n",
        "##########################################\n",
        "def train_1(dataloader, model_1, loss_fn, optimizer_1):\n",
        "  num_batches = len(dataloader)\n",
        "  size = len(dataloader.dataset)\n",
        "  epoch_loss = 0\n",
        "  correct = 0\n",
        "\n",
        "  model_1.train()\n",
        "\n",
        "  for X, Y in tqdm(dataloader):   \n",
        "    # X, Y = X.to(device), Y.to(device)\n",
        "\n",
        "    # Compute prediction error\n",
        "    pred = model_1(X)\n",
        "    loss = loss_fn(pred, Y)\n",
        "\n",
        "    # Backpropagation\n",
        "    optimizer_1.zero_grad()\n",
        "    loss.backward()\n",
        "    optimizer_1.step()\n",
        "\n",
        "    epoch_loss += loss.item()\n",
        "    pred = pred.argmax(dim = 1, keepdim = True)\n",
        "    correct += pred.eq(Y.view_as(pred)).sum().item()\n",
        "\n",
        "  avg_epoch_loss = epoch_loss / num_batches\n",
        "  avg_acc = correct / size\n",
        "  return avg_epoch_loss, avg_acc\n",
        "\n",
        "def test_1(dataloader, model_1, loss_fn):\n",
        "  num_batches = len(dataloader)\n",
        "  size = len(dataloader.dataset)\n",
        "  epoch_loss = 0\n",
        "  correct = 0\n",
        "\n",
        "  model_1.eval()\n",
        "\n",
        "  with torch.no_grad():\n",
        "    for X, Y in tqdm(dataloader):\n",
        "      # X, Y = X.to(device), Y.to(device)\n",
        "\n",
        "      pred = model_1(X)\n",
        "\n",
        "      epoch_loss += loss_fn(pred, Y).item()\n",
        "      pred = pred.argmax(dim = 1, keepdim = True)\n",
        "      correct += pred.eq(Y.view_as(pred)).sum().item()\n",
        "\n",
        "  avg_epoch_loss = epoch_loss / num_batches\n",
        "  avg_acc = correct / size\n",
        "  return avg_epoch_loss, avg_acc\n",
        "\n",
        "##########################################\n",
        "##############    Model_2   ##############\n",
        "##########################################\n",
        "def train_2(dataloader, model_2, loss_fn, optimizer_2):\n",
        "  num_batches = len(dataloader)\n",
        "  size = len(dataloader.dataset)\n",
        "  epoch_loss = 0\n",
        "  correct = 0\n",
        "\n",
        "  model_2.train()\n",
        "\n",
        "  for X, Y in tqdm(dataloader):   \n",
        "    # X, Y = X.to(device), Y.to(device)\n",
        "\n",
        "    # Compute prediction error\n",
        "    pred = model_2(X)\n",
        "    loss = loss_fn(pred, Y)\n",
        "\n",
        "    # Backpropagation\n",
        "    optimizer_2.zero_grad()\n",
        "    loss.backward()\n",
        "    optimizer_2.step()\n",
        "\n",
        "    epoch_loss += loss.item()\n",
        "    pred = pred.argmax(dim = 1, keepdim = True)\n",
        "    correct += pred.eq(Y.view_as(pred)).sum().item()\n",
        "\n",
        "  avg_epoch_loss = epoch_loss / num_batches\n",
        "  avg_acc = correct / size\n",
        "  return avg_epoch_loss, avg_acc\n",
        "\n",
        "def test_2(dataloader, model_2, loss_fn):\n",
        "  num_batches = len(dataloader)\n",
        "  size = len(dataloader.dataset)\n",
        "  epoch_loss = 0\n",
        "  correct = 0\n",
        "\n",
        "  model_2.eval()\n",
        "\n",
        "  with torch.no_grad():\n",
        "    for X, Y in tqdm(dataloader):\n",
        "      # X, Y = X.to(device), Y.to(device)\n",
        "\n",
        "      pred = model_2(X)\n",
        "\n",
        "      epoch_loss += loss_fn(pred, Y).item()\n",
        "      pred = pred.argmax(dim = 1, keepdim = True)\n",
        "      correct += pred.eq(Y.view_as(pred)).sum().item()\n",
        "\n",
        "  avg_epoch_loss = epoch_loss / num_batches\n",
        "  avg_acc = correct / size\n",
        "  return avg_epoch_loss, avg_acc\n",
        "\n",
        "##########################################\n",
        "##############    Model_3   ##############\n",
        "##########################################\n",
        "def train_3(dataloader, model_3, loss_fn, optimizer_3):\n",
        "  num_batches = len(dataloader)\n",
        "  size = len(dataloader.dataset)\n",
        "  epoch_loss = 0\n",
        "  correct = 0\n",
        "\n",
        "  model_3.train()\n",
        "\n",
        "  for X, Y in tqdm(dataloader):   \n",
        "    # X, Y = X.to(device), Y.to(device)\n",
        "\n",
        "    # Compute prediction error\n",
        "    pred = model_3(X)\n",
        "    loss = loss_fn(pred, Y)\n",
        "\n",
        "    # Backpropagation\n",
        "    optimizer_3.zero_grad()\n",
        "    loss.backward()\n",
        "    optimizer_3.step()\n",
        "\n",
        "    epoch_loss += loss.item()\n",
        "    pred = pred.argmax(dim = 1, keepdim = True)\n",
        "    correct += pred.eq(Y.view_as(pred)).sum().item()\n",
        "\n",
        "  avg_epoch_loss = epoch_loss / num_batches\n",
        "  avg_acc = correct / size\n",
        "  return avg_epoch_loss, avg_acc\n",
        "\n",
        "def test_3(dataloader, model_3, loss_fn):\n",
        "  num_batches = len(dataloader)\n",
        "  size = len(dataloader.dataset)\n",
        "  epoch_loss = 0\n",
        "  correct = 0\n",
        "\n",
        "  model_3.eval()\n",
        "\n",
        "  with torch.no_grad():\n",
        "    for X, Y in tqdm(dataloader):\n",
        "      # X, Y = X.to(device), Y.to(device)\n",
        "\n",
        "      pred = model_3(X)\n",
        "\n",
        "      epoch_loss += loss_fn(pred, Y).item()\n",
        "      pred = pred.argmax(dim = 1, keepdim = True)\n",
        "      correct += pred.eq(Y.view_as(pred)).sum().item()\n",
        "\n",
        "  avg_epoch_loss = epoch_loss / num_batches\n",
        "  avg_acc = correct / size\n",
        "  return avg_epoch_loss, avg_acc\n",
        "##########################################\n",
        "##############    Model_4   ##############\n",
        "##########################################\n",
        "def train_4(dataloader, model_4, loss_fn, optimizer_4):\n",
        "  num_batches = len(dataloader)\n",
        "  size = len(dataloader.dataset)\n",
        "  epoch_loss = 0\n",
        "  correct = 0\n",
        "\n",
        "  model_4.train()\n",
        "\n",
        "  for X, Y in tqdm(dataloader):   \n",
        "    # X, Y = X.to(device), Y.to(device)\n",
        "\n",
        "    # Compute prediction error\n",
        "    pred = model_4(X)\n",
        "    loss = loss_fn(pred, Y)\n",
        "\n",
        "    # Backpropagation\n",
        "    optimizer_4.zero_grad()\n",
        "    loss.backward()\n",
        "    optimizer_4.step()\n",
        "\n",
        "    epoch_loss += loss.item()\n",
        "    pred = pred.argmax(dim = 1, keepdim = True)\n",
        "    correct += pred.eq(Y.view_as(pred)).sum().item()\n",
        "\n",
        "  avg_epoch_loss = epoch_loss / num_batches\n",
        "  avg_acc = correct / size\n",
        "  return avg_epoch_loss, avg_acc\n",
        "\n",
        "def test_4(dataloader, model_4, loss_fn):\n",
        "  num_batches = len(dataloader)\n",
        "  size = len(dataloader.dataset)\n",
        "  epoch_loss = 0\n",
        "  correct = 0\n",
        "\n",
        "  model_4.eval()\n",
        "\n",
        "  with torch.no_grad():\n",
        "    for X, Y in tqdm(dataloader):\n",
        "      # X, Y = X.to(device), Y.to(device)\n",
        "\n",
        "      pred = model_4(X)\n",
        "\n",
        "      epoch_loss += loss_fn(pred, Y).item()\n",
        "      pred = pred.argmax(dim = 1, keepdim = True)\n",
        "      correct += pred.eq(Y.view_as(pred)).sum().item()\n",
        "\n",
        "  avg_epoch_loss = epoch_loss / num_batches\n",
        "  avg_acc = correct / size\n",
        "  return avg_epoch_loss, avg_acc"
      ]
    },
    {
      "cell_type": "code",
      "execution_count": null,
      "metadata": {
        "colab": {
          "base_uri": "https://localhost:8080/"
        },
        "id": "ZZUC5bu7eKYk",
        "outputId": "890d6457-9728-4260-f3b2-eed3131db7a1"
      },
      "outputs": [
        {
          "name": "stdout",
          "output_type": "stream",
          "text": [
            "==========Adam==========\n",
            "\n",
            "==========model_1==========\n",
            "\n",
            "==========sixteenth_train_dataloader==========\n",
            "\n"
          ]
        },
        {
          "name": "stderr",
          "output_type": "stream",
          "text": [
            "100%|██████████| 13/13 [00:04<00:00,  3.04it/s]\n",
            "100%|██████████| 40/40 [00:10<00:00,  3.80it/s]\n"
          ]
        },
        {
          "name": "stdout",
          "output_type": "stream",
          "text": [
            "Epoch  1:Loss = 2.1476 Acc = 0.02 Test_Loss = 2.2104 Test_Acc = 0.19\n"
          ]
        },
        {
          "name": "stderr",
          "output_type": "stream",
          "text": [
            "100%|██████████| 13/13 [00:03<00:00,  3.42it/s]\n",
            "100%|██████████| 40/40 [00:05<00:00,  7.90it/s]\n"
          ]
        },
        {
          "name": "stdout",
          "output_type": "stream",
          "text": [
            "Epoch  2:Loss = 1.9254 Acc = 0.02 Test_Loss = 2.4530 Test_Acc = 0.27\n"
          ]
        },
        {
          "name": "stderr",
          "output_type": "stream",
          "text": [
            "100%|██████████| 13/13 [00:04<00:00,  2.98it/s]\n",
            "100%|██████████| 40/40 [00:04<00:00,  8.10it/s]\n"
          ]
        },
        {
          "name": "stdout",
          "output_type": "stream",
          "text": [
            "Epoch  3:Loss = 1.7895 Acc = 0.02 Test_Loss = 1.6900 Test_Acc = 0.39\n"
          ]
        },
        {
          "name": "stderr",
          "output_type": "stream",
          "text": [
            "100%|██████████| 13/13 [00:03<00:00,  3.35it/s]\n",
            "100%|██████████| 40/40 [00:04<00:00,  8.78it/s]\n"
          ]
        },
        {
          "name": "stdout",
          "output_type": "stream",
          "text": [
            "Epoch  4:Loss = 1.6628 Acc = 0.02 Test_Loss = 1.6550 Test_Acc = 0.39\n"
          ]
        },
        {
          "name": "stderr",
          "output_type": "stream",
          "text": [
            "100%|██████████| 13/13 [00:04<00:00,  3.18it/s]\n",
            "100%|██████████| 40/40 [00:04<00:00,  8.61it/s]\n"
          ]
        },
        {
          "name": "stdout",
          "output_type": "stream",
          "text": [
            "Epoch  5:Loss = 1.6442 Acc = 0.02 Test_Loss = 1.6073 Test_Acc = 0.40\n",
            "Done!\n",
            "==========half_train_dataloader==========\n",
            "\n"
          ]
        },
        {
          "name": "stderr",
          "output_type": "stream",
          "text": [
            "100%|██████████| 98/98 [00:31<00:00,  3.10it/s]\n",
            "100%|██████████| 40/40 [00:04<00:00,  8.77it/s]\n"
          ]
        },
        {
          "name": "stdout",
          "output_type": "stream",
          "text": [
            "Epoch  1:Loss = 1.4727 Acc = 0.23 Test_Loss = 1.3647 Test_Acc = 0.50\n"
          ]
        },
        {
          "name": "stderr",
          "output_type": "stream",
          "text": [
            "100%|██████████| 98/98 [00:31<00:00,  3.12it/s]\n",
            "100%|██████████| 40/40 [00:04<00:00,  8.65it/s]\n"
          ]
        },
        {
          "name": "stdout",
          "output_type": "stream",
          "text": [
            "Epoch  2:Loss = 1.3138 Acc = 0.26 Test_Loss = 1.2090 Test_Acc = 0.56\n"
          ]
        },
        {
          "name": "stderr",
          "output_type": "stream",
          "text": [
            "100%|██████████| 98/98 [00:31<00:00,  3.14it/s]\n",
            "100%|██████████| 40/40 [00:04<00:00,  8.69it/s]\n"
          ]
        },
        {
          "name": "stdout",
          "output_type": "stream",
          "text": [
            "Epoch  3:Loss = 1.1734 Acc = 0.29 Test_Loss = 1.1495 Test_Acc = 0.58\n"
          ]
        },
        {
          "name": "stderr",
          "output_type": "stream",
          "text": [
            "100%|██████████| 98/98 [00:31<00:00,  3.11it/s]\n",
            "100%|██████████| 40/40 [00:04<00:00,  8.69it/s]\n"
          ]
        },
        {
          "name": "stdout",
          "output_type": "stream",
          "text": [
            "Epoch  4:Loss = 1.0927 Acc = 0.30 Test_Loss = 1.0737 Test_Acc = 0.62\n"
          ]
        },
        {
          "name": "stderr",
          "output_type": "stream",
          "text": [
            "100%|██████████| 98/98 [00:31<00:00,  3.13it/s]\n",
            "100%|██████████| 40/40 [00:04<00:00,  8.60it/s]\n"
          ]
        },
        {
          "name": "stdout",
          "output_type": "stream",
          "text": [
            "Epoch  5:Loss = 1.0284 Acc = 0.32 Test_Loss = 1.1848 Test_Acc = 0.60\n",
            "Done!\n",
            "==========train_dataloader==========\n",
            "\n"
          ]
        },
        {
          "name": "stderr",
          "output_type": "stream",
          "text": [
            "100%|██████████| 196/196 [01:02<00:00,  3.16it/s]\n",
            "100%|██████████| 40/40 [00:05<00:00,  7.90it/s]\n"
          ]
        },
        {
          "name": "stdout",
          "output_type": "stream",
          "text": [
            "Epoch  1:Loss = 0.9567 Acc = 0.66 Test_Loss = 0.8889 Test_Acc = 0.69\n"
          ]
        },
        {
          "name": "stderr",
          "output_type": "stream",
          "text": [
            "100%|██████████| 196/196 [01:02<00:00,  3.14it/s]\n",
            "100%|██████████| 40/40 [00:04<00:00,  8.80it/s]\n"
          ]
        },
        {
          "name": "stdout",
          "output_type": "stream",
          "text": [
            "Epoch  2:Loss = 0.8718 Acc = 0.69 Test_Loss = 0.8235 Test_Acc = 0.71\n"
          ]
        },
        {
          "name": "stderr",
          "output_type": "stream",
          "text": [
            "100%|██████████| 196/196 [01:02<00:00,  3.13it/s]\n",
            "100%|██████████| 40/40 [00:04<00:00,  8.73it/s]\n"
          ]
        },
        {
          "name": "stdout",
          "output_type": "stream",
          "text": [
            "Epoch  3:Loss = 0.8207 Acc = 0.71 Test_Loss = 0.8278 Test_Acc = 0.71\n"
          ]
        },
        {
          "name": "stderr",
          "output_type": "stream",
          "text": [
            "100%|██████████| 196/196 [01:02<00:00,  3.12it/s]\n",
            "100%|██████████| 40/40 [00:04<00:00,  8.12it/s]\n"
          ]
        },
        {
          "name": "stdout",
          "output_type": "stream",
          "text": [
            "Epoch  4:Loss = 0.7711 Acc = 0.73 Test_Loss = 0.8163 Test_Acc = 0.72\n"
          ]
        },
        {
          "name": "stderr",
          "output_type": "stream",
          "text": [
            "100%|██████████| 196/196 [01:02<00:00,  3.15it/s]\n",
            "100%|██████████| 40/40 [00:04<00:00,  8.62it/s]\n"
          ]
        },
        {
          "name": "stdout",
          "output_type": "stream",
          "text": [
            "Epoch  5:Loss = 0.7285 Acc = 0.74 Test_Loss = 0.7340 Test_Acc = 0.74\n",
            "Done!\n",
            "==========model_2==========\n",
            "\n",
            "==========sixteenth_train_dataloader==========\n",
            "\n"
          ]
        },
        {
          "name": "stderr",
          "output_type": "stream",
          "text": [
            "100%|██████████| 13/13 [00:04<00:00,  3.08it/s]\n",
            "100%|██████████| 40/40 [00:04<00:00,  8.71it/s]\n"
          ]
        },
        {
          "name": "stdout",
          "output_type": "stream",
          "text": [
            "Epoch  1:Loss = 1.9112 Acc = 0.02 Test_Loss = 2.0604 Test_Acc = 0.40\n"
          ]
        },
        {
          "name": "stderr",
          "output_type": "stream",
          "text": [
            "100%|██████████| 13/13 [00:03<00:00,  3.40it/s]\n",
            "100%|██████████| 40/40 [00:04<00:00,  8.28it/s]\n"
          ]
        },
        {
          "name": "stdout",
          "output_type": "stream",
          "text": [
            "Epoch  2:Loss = 1.4164 Acc = 0.03 Test_Loss = 1.4847 Test_Acc = 0.50\n"
          ]
        },
        {
          "name": "stderr",
          "output_type": "stream",
          "text": [
            "100%|██████████| 13/13 [00:03<00:00,  3.38it/s]\n",
            "100%|██████████| 40/40 [00:04<00:00,  8.59it/s]\n"
          ]
        },
        {
          "name": "stdout",
          "output_type": "stream",
          "text": [
            "Epoch  3:Loss = 1.2531 Acc = 0.04 Test_Loss = 1.3728 Test_Acc = 0.55\n"
          ]
        },
        {
          "name": "stderr",
          "output_type": "stream",
          "text": [
            "100%|██████████| 13/13 [00:04<00:00,  3.12it/s]\n",
            "100%|██████████| 40/40 [00:04<00:00,  8.66it/s]\n"
          ]
        },
        {
          "name": "stdout",
          "output_type": "stream",
          "text": [
            "Epoch  4:Loss = 1.1466 Acc = 0.04 Test_Loss = 1.3930 Test_Acc = 0.56\n"
          ]
        },
        {
          "name": "stderr",
          "output_type": "stream",
          "text": [
            "100%|██████████| 13/13 [00:04<00:00,  3.21it/s]\n",
            "100%|██████████| 40/40 [00:04<00:00,  8.55it/s]\n"
          ]
        },
        {
          "name": "stdout",
          "output_type": "stream",
          "text": [
            "Epoch  5:Loss = 1.0469 Acc = 0.04 Test_Loss = 1.0434 Test_Acc = 0.64\n",
            "Done!\n",
            "==========half_train_dataloader==========\n",
            "\n"
          ]
        },
        {
          "name": "stderr",
          "output_type": "stream",
          "text": [
            "100%|██████████| 98/98 [00:31<00:00,  3.15it/s]\n",
            "100%|██████████| 40/40 [00:04<00:00,  8.40it/s]\n"
          ]
        },
        {
          "name": "stdout",
          "output_type": "stream",
          "text": [
            "Epoch  1:Loss = 0.8949 Acc = 0.35 Test_Loss = 0.8260 Test_Acc = 0.72\n"
          ]
        },
        {
          "name": "stderr",
          "output_type": "stream",
          "text": [
            "100%|██████████| 98/98 [00:30<00:00,  3.16it/s]\n",
            "100%|██████████| 40/40 [00:04<00:00,  8.44it/s]\n"
          ]
        },
        {
          "name": "stdout",
          "output_type": "stream",
          "text": [
            "Epoch  2:Loss = 0.7405 Acc = 0.37 Test_Loss = 0.8702 Test_Acc = 0.71\n"
          ]
        },
        {
          "name": "stderr",
          "output_type": "stream",
          "text": [
            "100%|██████████| 98/98 [00:31<00:00,  3.15it/s]\n",
            "100%|██████████| 40/40 [00:04<00:00,  8.21it/s]\n"
          ]
        },
        {
          "name": "stdout",
          "output_type": "stream",
          "text": [
            "Epoch  3:Loss = 0.6913 Acc = 0.38 Test_Loss = 0.6901 Test_Acc = 0.77\n"
          ]
        },
        {
          "name": "stderr",
          "output_type": "stream",
          "text": [
            "100%|██████████| 98/98 [00:30<00:00,  3.18it/s]\n",
            "100%|██████████| 40/40 [00:04<00:00,  8.10it/s]\n"
          ]
        },
        {
          "name": "stdout",
          "output_type": "stream",
          "text": [
            "Epoch  4:Loss = 0.6328 Acc = 0.39 Test_Loss = 0.6746 Test_Acc = 0.77\n"
          ]
        },
        {
          "name": "stderr",
          "output_type": "stream",
          "text": [
            "100%|██████████| 98/98 [00:31<00:00,  3.11it/s]\n",
            "100%|██████████| 40/40 [00:04<00:00,  8.58it/s]\n"
          ]
        },
        {
          "name": "stdout",
          "output_type": "stream",
          "text": [
            "Epoch  5:Loss = 0.5959 Acc = 0.40 Test_Loss = 0.6241 Test_Acc = 0.79\n",
            "Done!\n",
            "==========train_dataloader==========\n",
            "\n"
          ]
        },
        {
          "name": "stderr",
          "output_type": "stream",
          "text": [
            "100%|██████████| 196/196 [01:02<00:00,  3.14it/s]\n",
            "100%|██████████| 40/40 [00:05<00:00,  7.94it/s]\n"
          ]
        },
        {
          "name": "stdout",
          "output_type": "stream",
          "text": [
            "Epoch  1:Loss = 0.5678 Acc = 0.81 Test_Loss = 0.6114 Test_Acc = 0.80\n"
          ]
        },
        {
          "name": "stderr",
          "output_type": "stream",
          "text": [
            "100%|██████████| 196/196 [01:02<00:00,  3.14it/s]\n",
            "100%|██████████| 40/40 [00:04<00:00,  8.87it/s]\n"
          ]
        },
        {
          "name": "stdout",
          "output_type": "stream",
          "text": [
            "Epoch  2:Loss = 0.5277 Acc = 0.82 Test_Loss = 0.6739 Test_Acc = 0.79\n"
          ]
        },
        {
          "name": "stderr",
          "output_type": "stream",
          "text": [
            "100%|██████████| 196/196 [01:02<00:00,  3.12it/s]\n",
            "100%|██████████| 40/40 [00:04<00:00,  8.21it/s]\n"
          ]
        },
        {
          "name": "stdout",
          "output_type": "stream",
          "text": [
            "Epoch  3:Loss = 0.4903 Acc = 0.83 Test_Loss = 0.5922 Test_Acc = 0.81\n"
          ]
        },
        {
          "name": "stderr",
          "output_type": "stream",
          "text": [
            "100%|██████████| 196/196 [01:01<00:00,  3.16it/s]\n",
            "100%|██████████| 40/40 [00:04<00:00,  8.79it/s]\n"
          ]
        },
        {
          "name": "stdout",
          "output_type": "stream",
          "text": [
            "Epoch  4:Loss = 0.4666 Acc = 0.84 Test_Loss = 0.5617 Test_Acc = 0.81\n"
          ]
        },
        {
          "name": "stderr",
          "output_type": "stream",
          "text": [
            "100%|██████████| 196/196 [01:02<00:00,  3.12it/s]\n",
            "100%|██████████| 40/40 [00:04<00:00,  8.78it/s]\n"
          ]
        },
        {
          "name": "stdout",
          "output_type": "stream",
          "text": [
            "Epoch  5:Loss = 0.4430 Acc = 0.85 Test_Loss = 0.5397 Test_Acc = 0.82\n",
            "Done!\n",
            "==========model_3==========\n",
            "\n",
            "==========sixteenth_train_dataloader==========\n",
            "\n"
          ]
        },
        {
          "name": "stderr",
          "output_type": "stream",
          "text": [
            "100%|██████████| 13/13 [00:10<00:00,  1.20it/s]\n",
            "100%|██████████| 40/40 [00:09<00:00,  4.24it/s]\n"
          ]
        },
        {
          "name": "stdout",
          "output_type": "stream",
          "text": [
            "Epoch  1:Loss = 2.8531 Acc = 0.01 Test_Loss = 2.3809 Test_Acc = 0.11\n"
          ]
        },
        {
          "name": "stderr",
          "output_type": "stream",
          "text": [
            "100%|██████████| 13/13 [00:10<00:00,  1.21it/s]\n",
            "100%|██████████| 40/40 [00:09<00:00,  4.41it/s]\n"
          ]
        },
        {
          "name": "stdout",
          "output_type": "stream",
          "text": [
            "Epoch  2:Loss = 2.3735 Acc = 0.01 Test_Loss = 2.1382 Test_Acc = 0.18\n"
          ]
        },
        {
          "name": "stderr",
          "output_type": "stream",
          "text": [
            "100%|██████████| 13/13 [00:10<00:00,  1.19it/s]\n",
            "100%|██████████| 40/40 [00:09<00:00,  4.23it/s]\n"
          ]
        },
        {
          "name": "stdout",
          "output_type": "stream",
          "text": [
            "Epoch  3:Loss = 2.1039 Acc = 0.02 Test_Loss = 1.9496 Test_Acc = 0.27\n"
          ]
        },
        {
          "name": "stderr",
          "output_type": "stream",
          "text": [
            "100%|██████████| 13/13 [00:10<00:00,  1.21it/s]\n",
            "100%|██████████| 40/40 [00:09<00:00,  4.21it/s]\n"
          ]
        },
        {
          "name": "stdout",
          "output_type": "stream",
          "text": [
            "Epoch  4:Loss = 2.0923 Acc = 0.02 Test_Loss = 1.9196 Test_Acc = 0.29\n"
          ]
        },
        {
          "name": "stderr",
          "output_type": "stream",
          "text": [
            "100%|██████████| 13/13 [00:11<00:00,  1.18it/s]\n",
            "100%|██████████| 40/40 [00:09<00:00,  4.20it/s]\n"
          ]
        },
        {
          "name": "stdout",
          "output_type": "stream",
          "text": [
            "Epoch  5:Loss = 1.9655 Acc = 0.02 Test_Loss = 1.8475 Test_Acc = 0.32\n",
            "Done!\n",
            "==========half_train_dataloader==========\n",
            "\n"
          ]
        },
        {
          "name": "stderr",
          "output_type": "stream",
          "text": [
            "100%|██████████| 98/98 [01:24<00:00,  1.16it/s]\n",
            "100%|██████████| 40/40 [00:09<00:00,  4.39it/s]\n"
          ]
        },
        {
          "name": "stdout",
          "output_type": "stream",
          "text": [
            "Epoch  1:Loss = 1.8089 Acc = 0.18 Test_Loss = 1.5872 Test_Acc = 0.41\n"
          ]
        },
        {
          "name": "stderr",
          "output_type": "stream",
          "text": [
            "100%|██████████| 98/98 [01:24<00:00,  1.16it/s]\n",
            "100%|██████████| 40/40 [00:09<00:00,  4.24it/s]\n"
          ]
        },
        {
          "name": "stdout",
          "output_type": "stream",
          "text": [
            "Epoch  2:Loss = 1.6364 Acc = 0.21 Test_Loss = 4.4134 Test_Acc = 0.43\n"
          ]
        },
        {
          "name": "stderr",
          "output_type": "stream",
          "text": [
            "100%|██████████| 98/98 [01:25<00:00,  1.15it/s]\n",
            "100%|██████████| 40/40 [00:09<00:00,  4.10it/s]\n"
          ]
        },
        {
          "name": "stdout",
          "output_type": "stream",
          "text": [
            "Epoch  3:Loss = 1.5839 Acc = 0.22 Test_Loss = 5.4166 Test_Acc = 0.45\n"
          ]
        },
        {
          "name": "stderr",
          "output_type": "stream",
          "text": [
            "100%|██████████| 98/98 [01:24<00:00,  1.16it/s]\n",
            "100%|██████████| 40/40 [00:09<00:00,  4.22it/s]\n"
          ]
        },
        {
          "name": "stdout",
          "output_type": "stream",
          "text": [
            "Epoch  4:Loss = 1.5257 Acc = 0.23 Test_Loss = 12.3747 Test_Acc = 0.36\n"
          ]
        },
        {
          "name": "stderr",
          "output_type": "stream",
          "text": [
            "100%|██████████| 98/98 [01:24<00:00,  1.16it/s]\n",
            "100%|██████████| 40/40 [00:09<00:00,  4.18it/s]\n"
          ]
        },
        {
          "name": "stdout",
          "output_type": "stream",
          "text": [
            "Epoch  5:Loss = 1.7516 Acc = 0.20 Test_Loss = 1.5808 Test_Acc = 0.42\n",
            "Done!\n",
            "==========train_dataloader==========\n",
            "\n"
          ]
        },
        {
          "name": "stderr",
          "output_type": "stream",
          "text": [
            "100%|██████████| 196/196 [02:48<00:00,  1.16it/s]\n",
            "100%|██████████| 40/40 [00:09<00:00,  4.28it/s]\n"
          ]
        },
        {
          "name": "stdout",
          "output_type": "stream",
          "text": [
            "Epoch  1:Loss = 1.5916 Acc = 0.44 Test_Loss = 1.4180 Test_Acc = 0.49\n"
          ]
        },
        {
          "name": "stderr",
          "output_type": "stream",
          "text": [
            "100%|██████████| 196/196 [02:48<00:00,  1.17it/s]\n",
            "100%|██████████| 40/40 [00:09<00:00,  4.20it/s]\n"
          ]
        },
        {
          "name": "stdout",
          "output_type": "stream",
          "text": [
            "Epoch  2:Loss = 1.6318 Acc = 0.42 Test_Loss = 1.6026 Test_Acc = 0.41\n"
          ]
        },
        {
          "name": "stderr",
          "output_type": "stream",
          "text": [
            "100%|██████████| 196/196 [02:48<00:00,  1.16it/s]\n",
            "100%|██████████| 40/40 [00:09<00:00,  4.34it/s]\n"
          ]
        },
        {
          "name": "stdout",
          "output_type": "stream",
          "text": [
            "Epoch  3:Loss = 1.5985 Acc = 0.43 Test_Loss = 1.4417 Test_Acc = 0.47\n"
          ]
        },
        {
          "name": "stderr",
          "output_type": "stream",
          "text": [
            "100%|██████████| 196/196 [02:47<00:00,  1.17it/s]\n",
            "100%|██████████| 40/40 [00:09<00:00,  4.21it/s]\n"
          ]
        },
        {
          "name": "stdout",
          "output_type": "stream",
          "text": [
            "Epoch  4:Loss = 1.4871 Acc = 0.47 Test_Loss = 1.2941 Test_Acc = 0.52\n"
          ]
        },
        {
          "name": "stderr",
          "output_type": "stream",
          "text": [
            "100%|██████████| 196/196 [02:48<00:00,  1.16it/s]\n",
            "100%|██████████| 40/40 [00:09<00:00,  4.21it/s]\n"
          ]
        },
        {
          "name": "stdout",
          "output_type": "stream",
          "text": [
            "Epoch  5:Loss = 1.3854 Acc = 0.51 Test_Loss = 1.3050 Test_Acc = 0.53\n",
            "Done!\n",
            "==========model_4==========\n",
            "\n",
            "==========sixteenth_train_dataloader==========\n",
            "\n"
          ]
        },
        {
          "name": "stderr",
          "output_type": "stream",
          "text": [
            "100%|██████████| 13/13 [00:10<00:00,  1.21it/s]\n",
            "100%|██████████| 40/40 [00:09<00:00,  4.38it/s]\n"
          ]
        },
        {
          "name": "stdout",
          "output_type": "stream",
          "text": [
            "Epoch  1:Loss = 1.9672 Acc = 0.02 Test_Loss = 5.0815 Test_Acc = 0.24\n"
          ]
        },
        {
          "name": "stderr",
          "output_type": "stream",
          "text": [
            "100%|██████████| 13/13 [00:10<00:00,  1.22it/s]\n",
            "100%|██████████| 40/40 [00:09<00:00,  4.18it/s]\n"
          ]
        },
        {
          "name": "stdout",
          "output_type": "stream",
          "text": [
            "Epoch  2:Loss = 1.3572 Acc = 0.03 Test_Loss = 4.4669 Test_Acc = 0.46\n"
          ]
        },
        {
          "name": "stderr",
          "output_type": "stream",
          "text": [
            "100%|██████████| 13/13 [00:10<00:00,  1.22it/s]\n",
            "100%|██████████| 40/40 [00:09<00:00,  4.17it/s]\n"
          ]
        },
        {
          "name": "stdout",
          "output_type": "stream",
          "text": [
            "Epoch  3:Loss = 1.1853 Acc = 0.04 Test_Loss = 2.5890 Test_Acc = 0.52\n"
          ]
        },
        {
          "name": "stderr",
          "output_type": "stream",
          "text": [
            "100%|██████████| 13/13 [00:10<00:00,  1.24it/s]\n",
            "100%|██████████| 40/40 [00:09<00:00,  4.28it/s]\n"
          ]
        },
        {
          "name": "stdout",
          "output_type": "stream",
          "text": [
            "Epoch  4:Loss = 1.0990 Acc = 0.04 Test_Loss = 1.0292 Test_Acc = 0.65\n"
          ]
        },
        {
          "name": "stderr",
          "output_type": "stream",
          "text": [
            "100%|██████████| 13/13 [00:10<00:00,  1.23it/s]\n",
            "100%|██████████| 40/40 [00:09<00:00,  4.17it/s]\n"
          ]
        },
        {
          "name": "stdout",
          "output_type": "stream",
          "text": [
            "Epoch  5:Loss = 1.0114 Acc = 0.04 Test_Loss = 1.0275 Test_Acc = 0.66\n",
            "Done!\n",
            "==========half_train_dataloader==========\n",
            "\n"
          ]
        },
        {
          "name": "stderr",
          "output_type": "stream",
          "text": [
            "100%|██████████| 98/98 [01:24<00:00,  1.16it/s]\n",
            "100%|██████████| 40/40 [00:09<00:00,  4.25it/s]\n"
          ]
        },
        {
          "name": "stdout",
          "output_type": "stream",
          "text": [
            "Epoch  1:Loss = 0.8559 Acc = 0.35 Test_Loss = 0.8118 Test_Acc = 0.73\n"
          ]
        },
        {
          "name": "stderr",
          "output_type": "stream",
          "text": [
            "100%|██████████| 98/98 [01:24<00:00,  1.16it/s]\n",
            "100%|██████████| 40/40 [00:09<00:00,  4.14it/s]\n"
          ]
        },
        {
          "name": "stdout",
          "output_type": "stream",
          "text": [
            "Epoch  2:Loss = 0.7433 Acc = 0.37 Test_Loss = 0.7029 Test_Acc = 0.76\n"
          ]
        },
        {
          "name": "stderr",
          "output_type": "stream",
          "text": [
            "100%|██████████| 98/98 [01:24<00:00,  1.16it/s]\n",
            "100%|██████████| 40/40 [00:09<00:00,  4.34it/s]\n"
          ]
        },
        {
          "name": "stdout",
          "output_type": "stream",
          "text": [
            "Epoch  3:Loss = 0.6191 Acc = 0.39 Test_Loss = 0.6207 Test_Acc = 0.80\n"
          ]
        },
        {
          "name": "stderr",
          "output_type": "stream",
          "text": [
            "100%|██████████| 98/98 [01:24<00:00,  1.16it/s]\n",
            "100%|██████████| 40/40 [00:09<00:00,  4.22it/s]\n"
          ]
        },
        {
          "name": "stdout",
          "output_type": "stream",
          "text": [
            "Epoch  4:Loss = 0.5868 Acc = 0.40 Test_Loss = 0.6437 Test_Acc = 0.79\n"
          ]
        },
        {
          "name": "stderr",
          "output_type": "stream",
          "text": [
            "100%|██████████| 98/98 [01:24<00:00,  1.17it/s]\n",
            "100%|██████████| 40/40 [00:09<00:00,  4.12it/s]\n"
          ]
        },
        {
          "name": "stdout",
          "output_type": "stream",
          "text": [
            "Epoch  5:Loss = 0.5411 Acc = 0.41 Test_Loss = 0.5926 Test_Acc = 0.80\n",
            "Done!\n",
            "==========train_dataloader==========\n",
            "\n"
          ]
        },
        {
          "name": "stderr",
          "output_type": "stream",
          "text": [
            "100%|██████████| 196/196 [02:50<00:00,  1.15it/s]\n",
            "100%|██████████| 40/40 [00:09<00:00,  4.13it/s]\n"
          ]
        },
        {
          "name": "stdout",
          "output_type": "stream",
          "text": [
            "Epoch  1:Loss = 0.5100 Acc = 0.82 Test_Loss = 0.5158 Test_Acc = 0.83\n"
          ]
        },
        {
          "name": "stderr",
          "output_type": "stream",
          "text": [
            "100%|██████████| 196/196 [02:51<00:00,  1.14it/s]\n",
            "100%|██████████| 40/40 [00:09<00:00,  4.15it/s]\n"
          ]
        },
        {
          "name": "stdout",
          "output_type": "stream",
          "text": [
            "Epoch  2:Loss = 0.4664 Acc = 0.84 Test_Loss = 0.5659 Test_Acc = 0.81\n"
          ]
        },
        {
          "name": "stderr",
          "output_type": "stream",
          "text": [
            "100%|██████████| 196/196 [02:50<00:00,  1.15it/s]\n",
            "100%|██████████| 40/40 [00:09<00:00,  4.16it/s]\n"
          ]
        },
        {
          "name": "stdout",
          "output_type": "stream",
          "text": [
            "Epoch  3:Loss = 0.4440 Acc = 0.85 Test_Loss = 0.5110 Test_Acc = 0.83\n"
          ]
        },
        {
          "name": "stderr",
          "output_type": "stream",
          "text": [
            "100%|██████████| 196/196 [02:49<00:00,  1.15it/s]\n",
            "100%|██████████| 40/40 [00:09<00:00,  4.21it/s]\n"
          ]
        },
        {
          "name": "stdout",
          "output_type": "stream",
          "text": [
            "Epoch  4:Loss = 0.5048 Acc = 0.83 Test_Loss = 0.5115 Test_Acc = 0.83\n"
          ]
        },
        {
          "name": "stderr",
          "output_type": "stream",
          "text": [
            "100%|██████████| 196/196 [02:49<00:00,  1.16it/s]\n",
            "100%|██████████| 40/40 [00:09<00:00,  4.12it/s]"
          ]
        },
        {
          "name": "stdout",
          "output_type": "stream",
          "text": [
            "Epoch  5:Loss = 0.6015 Acc = 0.80 Test_Loss = 0.5791 Test_Acc = 0.80\n",
            "Done!\n"
          ]
        },
        {
          "name": "stderr",
          "output_type": "stream",
          "text": [
            "\n"
          ]
        }
      ],
      "source": [
        "#=====================================================================\n",
        "#                              Training \n",
        "#=====================================================================\n",
        "epochs = 5\n",
        "\n",
        "print(\"==========Adam==========\\n\")\n",
        "\n",
        "##########################################\n",
        "##############    Model_1   ##############\n",
        "##########################################\n",
        "print(\"==========model_1==========\\n\")\n",
        "\n",
        "print(\"==========sixteenth_train_dataloader==========\\n\")\n",
        "acc_sixteenth_list_1 = []\n",
        "acc_test_sixteenth_list_1 = []\n",
        "for epoch in range(epochs):\n",
        "  train_loss, train_acc = train_1(sixteenth_train_dataloader, model_1, loss_fn, optimizer_1)\n",
        "  test_loss, test_acc = test_1(valid_dataloader, model_1, loss_fn)\n",
        "  print(f\"Epoch {epoch+1:2d}:Loss = {train_loss:.4f} Acc = {train_acc:.2f} Test_Loss = {test_loss:.4f} Test_Acc = {test_acc:.2f}\")\n",
        "  acc_sixteenth_list_1.append(train_acc)\n",
        "  acc_test_sixteenth_list_1.append(test_acc)\n",
        "print(\"Done!\")\n",
        "\n",
        "print(\"==========half_train_dataloader==========\\n\")\n",
        "acc_half_list_1 = []\n",
        "acc_test_half_list_1 = []\n",
        "for epoch in range(epochs):\n",
        "  train_loss, train_acc = train_1(half_train_dataloader, model_1, loss_fn, optimizer_1)\n",
        "  test_loss, test_acc = test_1(valid_dataloader, model_1, loss_fn)\n",
        "  print(f\"Epoch {epoch+1:2d}:Loss = {train_loss:.4f} Acc = {train_acc:.2f} Test_Loss = {test_loss:.4f} Test_Acc = {test_acc:.2f}\")\n",
        "  acc_half_list_1.append(train_acc)\n",
        "  acc_test_half_list_1.append(test_acc)\n",
        "print(\"Done!\")\n",
        "\n",
        "print(\"==========train_dataloader==========\\n\")\n",
        "acc_all_list_1 = []\n",
        "acc_test_all_list_1 = []\n",
        "for epoch in range(epochs):\n",
        "  train_loss, train_acc = train_1(train_dataloader, model_1, loss_fn, optimizer_1)\n",
        "  test_loss, test_acc = test_1(valid_dataloader, model_1, loss_fn)\n",
        "  print(f\"Epoch {epoch+1:2d}:Loss = {train_loss:.4f} Acc = {train_acc:.2f} Test_Loss = {test_loss:.4f} Test_Acc = {test_acc:.2f}\")\n",
        "  acc_all_list_1.append(train_acc)\n",
        "  acc_test_all_list_1.append(test_acc)\n",
        "print(\"Done!\")\n",
        "\n",
        "##########################################\n",
        "##############    Model_2   ##############\n",
        "##########################################\n",
        "print(\"==========model_2==========\\n\")\n",
        "\n",
        "print(\"==========sixteenth_train_dataloader==========\\n\")\n",
        "acc_sixteenth_list_2 = []\n",
        "acc_test_sixteenth_list_2 = []\n",
        "for epoch in range(epochs):\n",
        "  train_loss, train_acc = train_2(sixteenth_train_dataloader, model_2, loss_fn, optimizer_2)\n",
        "  test_loss, test_acc = test_2(valid_dataloader, model_2, loss_fn)\n",
        "  print(f\"Epoch {epoch+1:2d}:Loss = {train_loss:.4f} Acc = {train_acc:.2f} Test_Loss = {test_loss:.4f} Test_Acc = {test_acc:.2f}\")\n",
        "  acc_sixteenth_list_2.append(train_acc)\n",
        "  acc_test_sixteenth_list_2.append(test_acc)\n",
        "print(\"Done!\")\n",
        "\n",
        "print(\"==========half_train_dataloader==========\\n\")\n",
        "acc_half_list_2 = []\n",
        "acc_test_half_list_2 = []\n",
        "for epoch in range(epochs):\n",
        "  train_loss, train_acc = train_2(half_train_dataloader, model_2, loss_fn, optimizer_2)\n",
        "  test_loss, test_acc = test_2(valid_dataloader, model_2, loss_fn)\n",
        "  print(f\"Epoch {epoch+1:2d}:Loss = {train_loss:.4f} Acc = {train_acc:.2f} Test_Loss = {test_loss:.4f} Test_Acc = {test_acc:.2f}\")\n",
        "  acc_half_list_2.append(train_acc)\n",
        "  acc_test_half_list_2.append(test_acc)\n",
        "print(\"Done!\")\n",
        "\n",
        "print(\"==========train_dataloader==========\\n\")\n",
        "acc_all_list_2 = []\n",
        "acc_test_all_list_2 = []\n",
        "for epoch in range(epochs):\n",
        "  train_loss, train_acc = train_2(train_dataloader, model_2, loss_fn, optimizer_2)\n",
        "  test_loss, test_acc = test_2(valid_dataloader, model_2, loss_fn)\n",
        "  print(f\"Epoch {epoch+1:2d}:Loss = {train_loss:.4f} Acc = {train_acc:.2f} Test_Loss = {test_loss:.4f} Test_Acc = {test_acc:.2f}\")\n",
        "  acc_all_list_2.append(train_acc)\n",
        "  acc_test_all_list_2.append(test_acc)\n",
        "print(\"Done!\")\n",
        "\n",
        "##########################################\n",
        "##############    Model_3   ##############\n",
        "##########################################\n",
        "print(\"==========model_3==========\\n\")\n",
        "\n",
        "print(\"==========sixteenth_train_dataloader==========\\n\")\n",
        "acc_sixteenth_list_3 = []\n",
        "acc_test_sixteenth_list_3 = []\n",
        "for epoch in range(epochs):\n",
        "  train_loss, train_acc = train_3(sixteenth_train_dataloader, model_3, loss_fn, optimizer_3)\n",
        "  test_loss, test_acc = test_3(valid_dataloader, model_3, loss_fn)\n",
        "  print(f\"Epoch {epoch+1:2d}:Loss = {train_loss:.4f} Acc = {train_acc:.2f} Test_Loss = {test_loss:.4f} Test_Acc = {test_acc:.2f}\")\n",
        "  acc_sixteenth_list_3.append(train_acc)\n",
        "  acc_test_sixteenth_list_3.append(test_acc)\n",
        "print(\"Done!\")\n",
        "\n",
        "print(\"==========half_train_dataloader==========\\n\")\n",
        "acc_half_list_3 = []\n",
        "acc_test_half_list_3 = []\n",
        "for epoch in range(epochs):\n",
        "  train_loss, train_acc = train_3(half_train_dataloader, model_3, loss_fn, optimizer_3)\n",
        "  test_loss, test_acc = test_3(valid_dataloader, model_3, loss_fn)\n",
        "  print(f\"Epoch {epoch+1:2d}:Loss = {train_loss:.4f} Acc = {train_acc:.2f} Test_Loss = {test_loss:.4f} Test_Acc = {test_acc:.2f}\")\n",
        "  acc_half_list_3.append(train_acc)\n",
        "  acc_test_half_list_3.append(test_acc)\n",
        "print(\"Done!\")\n",
        "\n",
        "print(\"==========train_dataloader==========\\n\")\n",
        "acc_all_list_3 = []\n",
        "acc_test_all_list_3 = []\n",
        "for epoch in range(epochs):\n",
        "  train_loss, train_acc = train_3(train_dataloader, model_3, loss_fn, optimizer_3)\n",
        "  test_loss, test_acc = test_3(valid_dataloader, model_3, loss_fn)\n",
        "  print(f\"Epoch {epoch+1:2d}:Loss = {train_loss:.4f} Acc = {train_acc:.2f} Test_Loss = {test_loss:.4f} Test_Acc = {test_acc:.2f}\")\n",
        "  acc_all_list_3.append(train_acc)\n",
        "  acc_test_all_list_3.append(test_acc)\n",
        "print(\"Done!\")\n",
        "\n",
        "##########################################\n",
        "##############    Model_4   ##############\n",
        "##########################################\n",
        "\n",
        "print(\"==========model_4==========\\n\")\n",
        "\n",
        "print(\"==========sixteenth_train_dataloader==========\\n\")\n",
        "acc_sixteenth_list_4 = []\n",
        "acc_test_sixteenth_list_4 = []\n",
        "for epoch in range(epochs):\n",
        "  train_loss, train_acc = train_4(sixteenth_train_dataloader, model_4, loss_fn, optimizer_4)\n",
        "  test_loss, test_acc = test_4(valid_dataloader, model_4, loss_fn)\n",
        "  print(f\"Epoch {epoch+1:2d}:Loss = {train_loss:.4f} Acc = {train_acc:.2f} Test_Loss = {test_loss:.4f} Test_Acc = {test_acc:.2f}\")\n",
        "  acc_sixteenth_list_4.append(train_acc)\n",
        "  acc_test_sixteenth_list_4.append(test_acc)\n",
        "print(\"Done!\")\n",
        "\n",
        "print(\"==========half_train_dataloader==========\\n\")\n",
        "acc_half_list_4 = []\n",
        "acc_test_half_list_4 = []\n",
        "for epoch in range(epochs):\n",
        "  train_loss, train_acc = train_4(half_train_dataloader, model_4, loss_fn, optimizer_4)\n",
        "  test_loss, test_acc = test_4(valid_dataloader, model_4, loss_fn)\n",
        "  print(f\"Epoch {epoch+1:2d}:Loss = {train_loss:.4f} Acc = {train_acc:.2f} Test_Loss = {test_loss:.4f} Test_Acc = {test_acc:.2f}\")\n",
        "  acc_half_list_4.append(train_acc)\n",
        "  acc_test_half_list_4.append(test_acc)\n",
        "print(\"Done!\")\n",
        "\n",
        "print(\"==========train_dataloader==========\\n\")\n",
        "acc_all_list_4 = []\n",
        "acc_test_all_list_4 = []\n",
        "for epoch in range(epochs):\n",
        "  train_loss, train_acc = train_4(train_dataloader, model_4, loss_fn, optimizer_4)\n",
        "  test_loss, test_acc = test_4(valid_dataloader, model_4, loss_fn)\n",
        "  print(f\"Epoch {epoch+1:2d}:Loss = {train_loss:.4f} Acc = {train_acc:.2f} Test_Loss = {test_loss:.4f} Test_Acc = {test_acc:.2f}\")\n",
        "  acc_all_list_4.append(train_acc)\n",
        "  acc_test_all_list_4.append(test_acc)\n",
        "print(\"Done!\")\n"
      ]
    },
    {
      "cell_type": "code",
      "execution_count": null,
      "metadata": {
        "colab": {
          "base_uri": "https://localhost:8080/",
          "height": 438
        },
        "id": "FY_FGSyte2TV",
        "outputId": "80e2c0ba-bf1b-4ee9-81ac-32b0c919dbcf"
      },
      "outputs": [
        {
          "data": {
            "text/plain": [
              "<matplotlib.legend.Legend at 0x7cc4a236b7f0>"
            ]
          },
          "execution_count": 9,
          "metadata": {},
          "output_type": "execute_result"
        },
        {
          "data": {
            "text/plain": [
              "<Figure size 640x480 with 0 Axes>"
            ]
          },
          "metadata": {},
          "output_type": "display_data"
        },
        {
          "data": {
            "image/png": "[encoded data removed]",
            "text/plain": [
              "<Figure size 1000x1500 with 2 Axes>"
            ]
          },
          "metadata": {},
          "output_type": "display_data"
        }
      ],
      "source": [
        "#=====================================================================\n",
        "#                             Matplotlib \n",
        "#=====================================================================\n",
        "###########################################\n",
        "################   none   #################\n",
        "###########################################\n",
        "plt.subplots_adjust(hspace=16, wspace=16) \n",
        "plt.figure(figsize=(10, 15))\n",
        "###########################################\n",
        "################    acc    ################\n",
        "###########################################\n",
        "plt.subplot2grid((16,40), (0, 0), rowspan=4, colspan=16)\n",
        "plt.xlim(0, 1)\n",
        "plt.ylim(0, 1)\n",
        "x_ticks = np.arange(0, 1.1, 0.2)\n",
        "y_ticks = np.arange(0, 1.1, 0.2)\n",
        "plt.xticks(x_ticks)\n",
        "plt.xlabel(\"Data Size\")\n",
        "plt.yticks(y_ticks)\n",
        "plt.ylabel(\"Train Accuracy\")\n",
        "plt.title(\"                                                                       \" \"weights = Nano\\n\"\"Data Size vs Accuracy \")\n",
        "data_x = [0, 1/16, 0.5, 1]\n",
        "data_y_small = [0, acc_sixteenth_list_1[epochs-1], acc_half_list_1[epochs-1], acc_all_list_1[epochs-1]]\n",
        "plt.plot(data_x, data_y_small, label=\"small Model\")\n",
        "data_y_big = [0, acc_sixteenth_list_3[epochs-1], acc_half_list_3[epochs-1], acc_all_list_3[epochs-1]]\n",
        "plt.plot(data_x, data_y_big, label=\"Big Model\")\n",
        "plt.legend()\n",
        "###########################################\n",
        "##############    test acc    #############\n",
        "###########################################\n",
        "plt.subplot2grid((16,40), (0, 20), rowspan=4, colspan=16)\n",
        "plt.xlim(0, 1)\n",
        "plt.ylim(0, 1)\n",
        "x_ticks = np.arange(0, 1.1, 0.2)\n",
        "y_ticks = np.arange(0, 1.1, 0.2)\n",
        "plt.xticks(x_ticks)\n",
        "plt.xlabel(\"Data Size\")\n",
        "plt.yticks(y_ticks)\n",
        "plt.ylabel(\"Test Accuracy\")\n",
        "plt.title(\"Data Size vs Accuracy \")\n",
        "data_x = [0, 1/16, 0.5, 1]\n",
        "data_y_small = [0, acc_test_sixteenth_list_1[epochs-1], acc_test_half_list_1[epochs-1], acc_test_all_list_1[epochs-1]]\n",
        "plt.plot(data_x, data_y_small, label=\"small Model\")\n",
        "data_y_big = [0, acc_test_sixteenth_list_3[epochs-1], acc_test_half_list_3[epochs-1], acc_test_all_list_3[epochs-1]]\n",
        "plt.plot(data_x, data_y_big, label=\"Big Model\")\n",
        "plt.legend()\n",
        "\n"
      ]
    },
    {
      "cell_type": "code",
      "execution_count": null,
      "metadata": {
        "colab": {
          "base_uri": "https://localhost:8080/",
          "height": 438
        },
        "id": "iLsNunzqaYvJ",
        "outputId": "e53a31d6-9d43-40c1-bc74-1a9bd71efbf9"
      },
      "outputs": [
        {
          "data": {
            "text/plain": [
              "<matplotlib.legend.Legend at 0x7cc4a02232b0>"
            ]
          },
          "execution_count": 11,
          "metadata": {},
          "output_type": "execute_result"
        },
        {
          "data": {
            "text/plain": [
              "<Figure size 640x480 with 0 Axes>"
            ]
          },
          "metadata": {},
          "output_type": "display_data"
        },
        {
          "data": {
            "image/png": "[encoded data removed]",
            "text/plain": [
              "<Figure size 1000x1500 with 2 Axes>"
            ]
          },
          "metadata": {},
          "output_type": "display_data"
        }
      ],
      "source": [
        "###########################################\n",
        "###########    IMAGENET1K_V1   ############\n",
        "###########################################\n",
        "plt.subplots_adjust(hspace=16, wspace=16) \n",
        "plt.figure(figsize=(10, 15))\n",
        "###########################################\n",
        "################    acc   #################\n",
        "###########################################\n",
        "plt.subplot2grid((16,40), (0, 0), rowspan=4, colspan=16)\n",
        "plt.xlim(0, 1)\n",
        "plt.ylim(0, 1)\n",
        "x_ticks = np.arange(0, 1.1, 0.2)\n",
        "y_ticks = np.arange(0, 1.1, 0.2)\n",
        "plt.xticks(x_ticks)\n",
        "plt.xlabel(\"Data Size\")\n",
        "plt.yticks(y_ticks)\n",
        "plt.ylabel(\"Train Accuracy\")\n",
        "plt.title(\"                                                                     \" \"weights = IMAGENET1K_V1\\n\"\"Data Size vs Accuracy \")\n",
        "data_x = [0, 1/16, 0.5, 1]\n",
        "data_y_small = [0, acc_sixteenth_list_2[epochs-1], acc_half_list_2[epochs-1], acc_all_list_2[epochs-1]]\n",
        "plt.plot(data_x, data_y_small, label=\"small Model\")\n",
        "data_y_big = [0, acc_sixteenth_list_4[epochs-1], acc_half_list_4[epochs-1], acc_all_list_4[epochs-1]]\n",
        "plt.plot(data_x, data_y_big, label=\"Big Model\")\n",
        "plt.legend()\n",
        "###########################################\n",
        "##############    test acc   ##############\n",
        "###########################################\n",
        "plt.subplot2grid((16,40), (0, 20), rowspan=4, colspan=16)\n",
        "plt.xlim(0, 1)\n",
        "plt.ylim(0, 1)\n",
        "x_ticks = np.arange(0, 1.1, 0.2)\n",
        "y_ticks = np.arange(0, 1.1, 0.2)\n",
        "plt.xticks(x_ticks)\n",
        "plt.xlabel(\"Data Size\")\n",
        "plt.yticks(y_ticks)\n",
        "plt.ylabel(\"Test Accuracy\")\n",
        "plt.title(\"Data Size vs Accuracy \")\n",
        "data_x = [0, 1/16, 0.5, 1]\n",
        "data_y_small = [0, acc_test_sixteenth_list_2[epochs-1], acc_test_half_list_2[epochs-1], acc_test_all_list_2[epochs-1]]\n",
        "plt.plot(data_x, data_y_small, label=\"small Model\")\n",
        "data_y_big = [0, acc_test_sixteenth_list_4[epochs-1], acc_test_half_list_4[epochs-1], acc_test_all_list_4[epochs-1]]\n",
        "plt.plot(data_x, data_y_big, label=\"Big Model\")\n",
        "plt.legend()"
      ]
    },
    {
      "cell_type": "markdown",
      "metadata": {
        "id": "9iqBGAUm6b5W"
      },
      "source": [
        "## Codes for Problem 3"
      ]
    },
    {
      "cell_type": "code",
      "execution_count": null,
      "metadata": {
        "id": "5SBFMzPT6cP4"
      },
      "outputs": [],
      "source": [
        "# TODO: Try to achieve the best performance given all training data using whatever model and training strategy.\n",
        "# (New) (You cannot use the model that was pretrained on CIFAR10)"
      ]
    },
    {
      "cell_type": "markdown",
      "metadata": {
        "id": "nTSafuelpRYJ"
      },
      "source": [
        "## Problems"
      ]
    },
    {
      "cell_type": "markdown",
      "metadata": {
        "id": "cZctBdkurpQS"
      },
      "source": [
        "1. (30%) Finish the rest of the codes for Problem 1 and Problem 2 according to the hint. (2 code cells in total.)\n",
        "2. Train small model (resnet18) and big model (resnet50) from scratch on `sixteenth_train_dataloader`, `half_train_dataloader`, and `train_dataloader` respectively.\n",
        "3. (30%) Achieve the best performance given all training data using whatever model and training strategy.  \n",
        "  (You cannot use the model that was pretrained on CIFAR10)\n",
        "\n"
      ]
    },
    {
      "cell_type": "markdown",
      "metadata": {
        "id": "786fQTdk0msC"
      },
      "source": [
        "## Discussion"
      ]
    },
    {
      "cell_type": "markdown",
      "metadata": {
        "id": "xsd2yTmB0k5t"
      },
      "source": [
        "Write down your insights in the report. The file name should be report.pdf.\n",
        "For the following discussion, please present the results graphically as shown in Fig. 1 and discuss them.\n",
        "\n",
        "- (30%) The relationship between the accuracy, model size, and the training dataset size.  \n",
        "    (Total 6 models. Small model trains on the sixteenth, half, and all data. Big model trains on the sixteenth, half, and all data. If the result is different from Fig.1, please explain the possible reasons.)\n",
        "- (10%) What if we train the ResNet with ImageNet initialized weights (`weights=\"IMAGENET1K_V1\"`).\n",
        "Please explain why the relationship changed this way?\n",
        "\n",
        "Hint: You can try different hyperparameters combinations when training the models."
      ]
    },
    {
      "cell_type": "markdown",
      "metadata": {
        "id": "HWDxF-xIueMM"
      },
      "source": [
        "## Credits"
      ]
    },
    {
      "cell_type": "markdown",
      "metadata": {
        "id": "2sXpmSj2ufkh"
      },
      "source": [
        "1. [CIFAR10](https://www.cs.toronto.edu/~kriz/cifar.html)"
      ]
    },
    {
      "cell_type": "code",
      "execution_count": null,
      "metadata": {
        "id": "MemcOLK_4ULJ"
      },
      "outputs": [],
      "source": []
    }
  ],
  "metadata": {
    "accelerator": "GPU",
    "colab": {
      "gpuType": "A100",
      "machine_shape": "hm",
      "provenance": []
    },
    "kernelspec": {
      "display_name": "Python 3",
      "name": "python3"
    },
    "language_info": {
      "name": "python"
    }
  },
  "nbformat": 4,
  "nbformat_minor": 0
}
